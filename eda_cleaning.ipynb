{
 "cells": [
  {
   "cell_type": "markdown",
   "metadata": {},
   "source": [
    "### Data loading and Inspection"
   ]
  },
  {
   "cell_type": "code",
   "execution_count": 1,
   "metadata": {},
   "outputs": [
    {
     "name": "stdout",
     "output_type": "stream",
     "text": [
      "Shape: (4487, 1)\n",
      "Columns: ['product_name']\n",
      "<class 'pandas.core.frame.DataFrame'>\n",
      "RangeIndex: 4487 entries, 0 to 4486\n",
      "Data columns (total 1 columns):\n",
      " #   Column        Non-Null Count  Dtype \n",
      "---  ------        --------------  ----- \n",
      " 0   product_name  4487 non-null   object\n",
      "dtypes: object(1)\n",
      "memory usage: 35.2+ KB\n",
      "Df Info: None\n"
     ]
    },
    {
     "data": {
      "text/html": [
       "<div>\n",
       "<style scoped>\n",
       "    .dataframe tbody tr th:only-of-type {\n",
       "        vertical-align: middle;\n",
       "    }\n",
       "\n",
       "    .dataframe tbody tr th {\n",
       "        vertical-align: top;\n",
       "    }\n",
       "\n",
       "    .dataframe thead th {\n",
       "        text-align: right;\n",
       "    }\n",
       "</style>\n",
       "<table border=\"1\" class=\"dataframe\">\n",
       "  <thead>\n",
       "    <tr style=\"text-align: right;\">\n",
       "      <th></th>\n",
       "      <th>product_name</th>\n",
       "    </tr>\n",
       "  </thead>\n",
       "  <tbody>\n",
       "    <tr>\n",
       "      <th>0</th>\n",
       "      <td>JK LAKSHMI WHITE CEMENT</td>\n",
       "    </tr>\n",
       "    <tr>\n",
       "      <th>1</th>\n",
       "      <td>JKC WALLMAXX WHITE CEMENT</td>\n",
       "    </tr>\n",
       "    <tr>\n",
       "      <th>2</th>\n",
       "      <td>RASHMI STEEL FE415</td>\n",
       "    </tr>\n",
       "    <tr>\n",
       "      <th>3</th>\n",
       "      <td>RASHMI STEEL FE415 D</td>\n",
       "    </tr>\n",
       "    <tr>\n",
       "      <th>4</th>\n",
       "      <td>RASHMI STEEL FE500</td>\n",
       "    </tr>\n",
       "    <tr>\n",
       "      <th>5</th>\n",
       "      <td>RUNGTA STEEL FE500</td>\n",
       "    </tr>\n",
       "    <tr>\n",
       "      <th>6</th>\n",
       "      <td>7 STAR FE500</td>\n",
       "    </tr>\n",
       "  </tbody>\n",
       "</table>\n",
       "</div>"
      ],
      "text/plain": [
       "                product_name\n",
       "0    JK LAKSHMI WHITE CEMENT\n",
       "1  JKC WALLMAXX WHITE CEMENT\n",
       "2         RASHMI STEEL FE415\n",
       "3       RASHMI STEEL FE415 D\n",
       "4         RASHMI STEEL FE500\n",
       "5         RUNGTA STEEL FE500\n",
       "6               7 STAR FE500"
      ]
     },
     "execution_count": 1,
     "metadata": {},
     "output_type": "execute_result"
    }
   ],
   "source": [
    "import pandas as pd\n",
    "\n",
    "# Load data \n",
    "df = pd.read_csv(\"db_file.csv\")  \n",
    "\n",
    "# get the shape info \n",
    "print(\"Shape:\", df.shape)\n",
    "# get column info\n",
    "print(\"Columns:\", df.columns.tolist())\n",
    "# get overall df info\n",
    "print(\"Df Info:\", df.info())\n",
    "\n",
    "# Preview\n",
    "df.head(7)"
   ]
  },
  {
   "cell_type": "markdown",
   "metadata": {},
   "source": [
    "### Exploratory Data Analysis (EDA)"
   ]
  },
  {
   "cell_type": "code",
   "execution_count": 4,
   "metadata": {},
   "outputs": [
    {
     "name": "stdout",
     "output_type": "stream",
     "text": [
      "\n",
      "Top values in product_name:\n",
      "product_name\n",
      "JK LAKSHMI WHITE CEMENT                             1\n",
      "OrientBell 600x600 BHF Smoky Beige FT               1\n",
      "OrientBell 600x600 BHF Cloudy Marengo FT            1\n",
      "OrientBell 600x600 BHF Cloudy 3D Grey HL FT         1\n",
      "OrientBell 600x600 BHF Geometric Slate Ash HL FT    1\n",
      "OrientBell 600x600 BHF Slate Ash FT                 1\n",
      "OrientBell 600x600 BHF Droplets Ghost White FT      1\n",
      "OrientBell 600x600 BHF Smoky Creama FT              1\n",
      "OrientBell 600x600 BHF Cloudy Beige FT              1\n",
      "OrientBell 600x600 BHF Onyx White FT                1\n",
      "Name: count, dtype: int64\n"
     ]
    }
   ],
   "source": [
    "# Histograms will be only 1 as essentially only one feature is int64\n",
    "import matplotlib.pyplot as plt\n",
    "import seaborn as sns\n",
    "\n",
    "# Check for nulls\n",
    "df.isnull().sum().sort_values(ascending=False)\n",
    "\n",
    "# Frequency counts\n",
    "for col in ['product_name']:\n",
    "    print(f\"\\nTop values in {col}:\")\n",
    "    print(df[col].value_counts().head(10))\n",
    "\n",
    "# Correlation heatmap is not required."
   ]
  },
  {
   "cell_type": "code",
   "execution_count": 6,
   "metadata": {},
   "outputs": [
    {
     "name": "stdout",
     "output_type": "stream",
     "text": [
      "\n",
      "Top values in product_name:\n",
      "product_name\n",
      "JK LAKSHMI WHITE CEMENT                                 1\n",
      "OrientBell 600x600 BHF Smoky Beige FT                   1\n",
      "OrientBell 600x600 BHF Cloudy Marengo FT                1\n",
      "OrientBell 600x600 BHF Cloudy 3D Grey HL FT             1\n",
      "OrientBell 600x600 BHF Geometric Slate Ash HL FT        1\n",
      "OrientBell 600x600 BHF Slate Ash FT                     1\n",
      "OrientBell 600x600 BHF Droplets Ghost White FT          1\n",
      "OrientBell 600x600 BHF Smoky Creama FT                  1\n",
      "OrientBell 600x600 BHF Cloudy Beige FT                  1\n",
      "OrientBell 600x600 BHF Onyx White FT                    1\n",
      "OrientBell 600x600 BHF Cloudy Cotto FT                  1\n",
      "OrientBell 600x600 BHF Cloudy Ornamental Cotto HL FT    1\n",
      "OrientBell 600x600 BHF Herringbone Bricks Cotto FT      1\n",
      "OrientBell 600x600 BHF Foggy Grey LT FT                 1\n",
      "OrientBell 600x600 BHF Ceppo Stone Blue FT              1\n",
      "OrientBell 600x600 BHF Foggy Grey DK FT                 1\n",
      "OrientBell 600x600 BHF Onyx Crystal FT                  1\n",
      "OrientBell 600x600 BHF Cloudy Coin FT                   1\n",
      "OrientBell 300x450 SBM Maksi Dot Brown LT               1\n",
      "OrientBell 600x1200 BHF Sandy Brick Mushroom HL FT      1\n",
      "Name: count, dtype: int64\n"
     ]
    }
   ],
   "source": [
    "# Frequency counts\n",
    "for col in ['product_name']:\n",
    "    print(f\"\\nTop values in {col}:\")\n",
    "    print(df[col].value_counts().head(20))"
   ]
  },
  {
   "cell_type": "code",
   "execution_count": 7,
   "metadata": {},
   "outputs": [
    {
     "data": {
      "text/plain": [
       "4487"
      ]
     },
     "execution_count": 7,
     "metadata": {},
     "output_type": "execute_result"
    }
   ],
   "source": [
    "df['product_name'].nunique()"
   ]
  },
  {
   "cell_type": "code",
   "execution_count": 8,
   "metadata": {},
   "outputs": [
    {
     "data": {
      "image/png": "[encoded data removed]",
      "text/plain": [
       "<Figure size 640x480 with 1 Axes>"
      ]
     },
     "metadata": {},
     "output_type": "display_data"
    },
    {
     "data": {
      "text/plain": [
       "0                            [JK, LAKSHMI, WHITE, CEMENT]\n",
       "1                          [JKC, WALLMAXX, WHITE, CEMENT]\n",
       "2                                  [RASHMI, STEEL, FE415]\n",
       "3                               [RASHMI, STEEL, FE415, D]\n",
       "4                                  [RASHMI, STEEL, FE500]\n",
       "                              ...                        \n",
       "4482    [OrientBell, 600x1200, Ashstone, Battleship, G...\n",
       "4483    [OrientBell, 600x1200, Slate, Punch, Ashstone,...\n",
       "4484    [OrientBell, 600x1200, Stream, Pebble, Strip, ...\n",
       "4485    [OrientBell, 600x1200, Canyon, Mocha, Strip, P...\n",
       "4486         [OrientBell, 600x1200, Fossil, Strip, Punch]\n",
       "Name: tokens, Length: 4487, dtype: object"
      ]
     },
     "execution_count": 8,
     "metadata": {},
     "output_type": "execute_result"
    }
   ],
   "source": [
    "# Don't overwrite the original — keep as parallel analysis\n",
    "df['tokens'] = df['product_name'].apply(lambda x: x.split())\n",
    "\n",
    "# Optional analysis:\n",
    "df['num_tokens'] = df['tokens'].apply(len)\n",
    "df['num_tokens'].hist(bins=20)\n",
    "plt.title(\"Distribution of Token Counts in Product Names\")\n",
    "plt.show()\n",
    "\n",
    "df['tokens']"
   ]
  },
  {
   "cell_type": "markdown",
   "metadata": {},
   "source": [
    "Instead of relying on one noisy or incomplete field, we build a composite textual representation that combines descriptive and identifier-level data. This gives our fuzzy matcher the same context a human would rely on to recognize similar products."
   ]
  },
  {
   "cell_type": "markdown",
   "metadata": {},
   "source": [
    "### Cleaning (incl. of normalizing)"
   ]
  },
  {
   "cell_type": "markdown",
   "metadata": {},
   "source": [
    "Normalize test: all lowercase, ASCII, etc."
   ]
  },
  {
   "cell_type": "code",
   "execution_count": 9,
   "metadata": {},
   "outputs": [],
   "source": [
    "import re\n",
    "import unicodedata\n",
    "\n",
    "def normalize(text):\n",
    "    if pd.isna(text):\n",
    "        return \"\"\n",
    "    text = unicodedata.normalize(\"NFKD\", str(text))\n",
    "    text = text.encode(\"ASCII\", \"ignore\").decode(\"utf-8\")\n",
    "    text = text.lower()\n",
    "    text = re.sub(r'[^a-z0-9\\s]', '', text)\n",
    "    text = re.sub(r'\\s+', ' ', text)\n",
    "    return text.strip()\n"
   ]
  },
  {
   "cell_type": "code",
   "execution_count": 10,
   "metadata": {},
   "outputs": [
    {
     "data": {
      "text/plain": [
       "0                                 jk lakshmi white cement\n",
       "1                               jkc wallmaxx white cement\n",
       "2                                      rashmi steel fe415\n",
       "3                                    rashmi steel fe415 d\n",
       "4                                      rashmi steel fe500\n",
       "                              ...                        \n",
       "4482    orientbell 600x1200 ashstone battleship grey s...\n",
       "4483    orientbell 600x1200 slate punch ashstone grey ...\n",
       "4484        orientbell 600x1200 stream pebble strip punch\n",
       "4485         orientbell 600x1200 canyon mocha strip punch\n",
       "4486               orientbell 600x1200 fossil strip punch\n",
       "Name: product_name, Length: 4487, dtype: object"
      ]
     },
     "execution_count": 10,
     "metadata": {},
     "output_type": "execute_result"
    }
   ],
   "source": [
    "# Apply Normalization\n",
    "# Apply to core columns\n",
    "df['product_name'] = df['product_name'].apply(normalize)\n",
    "\n",
    "df['product_name']"
   ]
  },
  {
   "cell_type": "markdown",
   "metadata": {},
   "source": [
    "### Finalized one column case column"
   ]
  },
  {
   "cell_type": "code",
   "execution_count": 14,
   "metadata": {},
   "outputs": [
    {
     "data": {
      "text/html": [
       "<div>\n",
       "<style scoped>\n",
       "    .dataframe tbody tr th:only-of-type {\n",
       "        vertical-align: middle;\n",
       "    }\n",
       "\n",
       "    .dataframe tbody tr th {\n",
       "        vertical-align: top;\n",
       "    }\n",
       "\n",
       "    .dataframe thead th {\n",
       "        text-align: right;\n",
       "    }\n",
       "</style>\n",
       "<table border=\"1\" class=\"dataframe\">\n",
       "  <thead>\n",
       "    <tr style=\"text-align: right;\">\n",
       "      <th></th>\n",
       "      <th>product_name</th>\n",
       "    </tr>\n",
       "  </thead>\n",
       "  <tbody>\n",
       "    <tr>\n",
       "      <th>0</th>\n",
       "      <td>jk lakshmi white cement</td>\n",
       "    </tr>\n",
       "    <tr>\n",
       "      <th>1</th>\n",
       "      <td>jkc wallmaxx white cement</td>\n",
       "    </tr>\n",
       "    <tr>\n",
       "      <th>2</th>\n",
       "      <td>rashmi steel fe415</td>\n",
       "    </tr>\n",
       "    <tr>\n",
       "      <th>3</th>\n",
       "      <td>rashmi steel fe415 d</td>\n",
       "    </tr>\n",
       "    <tr>\n",
       "      <th>4</th>\n",
       "      <td>rashmi steel fe500</td>\n",
       "    </tr>\n",
       "    <tr>\n",
       "      <th>5</th>\n",
       "      <td>rungta steel fe500</td>\n",
       "    </tr>\n",
       "    <tr>\n",
       "      <th>6</th>\n",
       "      <td>7 star fe500</td>\n",
       "    </tr>\n",
       "    <tr>\n",
       "      <th>7</th>\n",
       "      <td>jindal panther fe500 d</td>\n",
       "    </tr>\n",
       "    <tr>\n",
       "      <th>8</th>\n",
       "      <td>rashmi steel fe500 d</td>\n",
       "    </tr>\n",
       "    <tr>\n",
       "      <th>9</th>\n",
       "      <td>rungta steel fe500 d</td>\n",
       "    </tr>\n",
       "    <tr>\n",
       "      <th>10</th>\n",
       "      <td>tata tiscon fe500 d</td>\n",
       "    </tr>\n",
       "    <tr>\n",
       "      <th>11</th>\n",
       "      <td>7 star fe500 d</td>\n",
       "    </tr>\n",
       "    <tr>\n",
       "      <th>12</th>\n",
       "      <td>jsw neosteel fe500 d</td>\n",
       "    </tr>\n",
       "    <tr>\n",
       "      <th>13</th>\n",
       "      <td>rungta steel fe550</td>\n",
       "    </tr>\n",
       "    <tr>\n",
       "      <th>14</th>\n",
       "      <td>jindal panther fe550 d</td>\n",
       "    </tr>\n",
       "    <tr>\n",
       "      <th>15</th>\n",
       "      <td>rungta steel fe550 d</td>\n",
       "    </tr>\n",
       "    <tr>\n",
       "      <th>16</th>\n",
       "      <td>tata tiscon fe550 d</td>\n",
       "    </tr>\n",
       "    <tr>\n",
       "      <th>17</th>\n",
       "      <td>jsw neosteel fe550 d</td>\n",
       "    </tr>\n",
       "    <tr>\n",
       "      <th>18</th>\n",
       "      <td>7 star fe550 d</td>\n",
       "    </tr>\n",
       "    <tr>\n",
       "      <th>19</th>\n",
       "      <td>jindal panther fe600</td>\n",
       "    </tr>\n",
       "    <tr>\n",
       "      <th>20</th>\n",
       "      <td>tata tiscon fe600</td>\n",
       "    </tr>\n",
       "    <tr>\n",
       "      <th>21</th>\n",
       "      <td>jsw neosteel fe600</td>\n",
       "    </tr>\n",
       "    <tr>\n",
       "      <th>22</th>\n",
       "      <td>7 star fe600</td>\n",
       "    </tr>\n",
       "    <tr>\n",
       "      <th>23</th>\n",
       "      <td>orientbell 395x395 glacier white 6 pcs prem</td>\n",
       "    </tr>\n",
       "    <tr>\n",
       "      <th>24</th>\n",
       "      <td>orientbell 395x395 moon ivory 6 pcs prem</td>\n",
       "    </tr>\n",
       "  </tbody>\n",
       "</table>\n",
       "</div>"
      ],
      "text/plain": [
       "                                   product_name\n",
       "0                       jk lakshmi white cement\n",
       "1                     jkc wallmaxx white cement\n",
       "2                            rashmi steel fe415\n",
       "3                          rashmi steel fe415 d\n",
       "4                            rashmi steel fe500\n",
       "5                            rungta steel fe500\n",
       "6                                  7 star fe500\n",
       "7                        jindal panther fe500 d\n",
       "8                          rashmi steel fe500 d\n",
       "9                          rungta steel fe500 d\n",
       "10                          tata tiscon fe500 d\n",
       "11                               7 star fe500 d\n",
       "12                         jsw neosteel fe500 d\n",
       "13                           rungta steel fe550\n",
       "14                       jindal panther fe550 d\n",
       "15                         rungta steel fe550 d\n",
       "16                          tata tiscon fe550 d\n",
       "17                         jsw neosteel fe550 d\n",
       "18                               7 star fe550 d\n",
       "19                         jindal panther fe600\n",
       "20                            tata tiscon fe600\n",
       "21                           jsw neosteel fe600\n",
       "22                                 7 star fe600\n",
       "23  orientbell 395x395 glacier white 6 pcs prem\n",
       "24     orientbell 395x395 moon ivory 6 pcs prem"
      ]
     },
     "execution_count": 14,
     "metadata": {},
     "output_type": "execute_result"
    }
   ],
   "source": [
    "# Drop duplicates just to be extra safe\n",
    "df_final = df[['product_name']].drop_duplicates().reset_index(drop=True)\n",
    "\n",
    "df_final.head(25)"
   ]
  },
  {
   "cell_type": "code",
   "execution_count": 13,
   "metadata": {},
   "outputs": [
    {
     "name": "stdout",
     "output_type": "stream",
     "text": [
      "✅ Exported 4485 clean product entries to product_clean.csv\n"
     ]
    }
   ],
   "source": [
    "# Export to CSV\n",
    "df_final.to_csv(\"product_clean.csv\", index=False)\n",
    "\n",
    "print(f\"✅ Exported {len(df_final)} clean product entries to product_clean.csv\")"
   ]
  },
  {
   "cell_type": "code",
   "execution_count": null,
   "metadata": {},
   "outputs": [],
   "source": []
  }
 ],
 "metadata": {
  "kernelspec": {
   "display_name": "Python 3",
   "language": "python",
   "name": "python3"
  },
  "language_info": {
   "codemirror_mode": {
    "name": "ipython",
    "version": 3
   },
   "file_extension": ".py",
   "mimetype": "text/x-python",
   "name": "python",
   "nbconvert_exporter": "python",
   "pygments_lexer": "ipython3",
   "version": "3.12.6"
  }
 },
 "nbformat": 4,
 "nbformat_minor": 2
}
