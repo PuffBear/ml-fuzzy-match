{
 "cells": [
  {
   "cell_type": "markdown",
   "metadata": {},
   "source": [
    "### Data loading and Inspection"
   ]
  },
  {
   "cell_type": "code",
   "execution_count": 6,
   "metadata": {},
   "outputs": [
    {
     "name": "stdout",
     "output_type": "stream",
     "text": [
      "Shape: (4566, 11)\n",
      "Columns: ['S.No', 'BrandName', 'Product ID', 'Product Name', 'Brand Desc', 'Product Size', 'Currancy', 'MRP', 'SellPrice', 'Discount', 'Category']\n",
      "<class 'pandas.core.frame.DataFrame'>\n",
      "RangeIndex: 4566 entries, 0 to 4565\n",
      "Data columns (total 11 columns):\n",
      " #   Column        Non-Null Count  Dtype \n",
      "---  ------        --------------  ----- \n",
      " 0   S.No          4566 non-null   int64 \n",
      " 1   BrandName     4566 non-null   object\n",
      " 2   Product ID    4566 non-null   object\n",
      " 3   Product Name  4566 non-null   object\n",
      " 4   Brand Desc    4566 non-null   object\n",
      " 5   Product Size  4566 non-null   object\n",
      " 6   Currancy      4566 non-null   object\n",
      " 7   MRP           4553 non-null   object\n",
      " 8   SellPrice     4566 non-null   int64 \n",
      " 9   Discount      4566 non-null   object\n",
      " 10  Category      4566 non-null   object\n",
      "dtypes: int64(2), object(9)\n",
      "memory usage: 392.5+ KB\n",
      "Df Info: None\n"
     ]
    },
    {
     "data": {
      "text/html": [
       "<div>\n",
       "<style scoped>\n",
       "    .dataframe tbody tr th:only-of-type {\n",
       "        vertical-align: middle;\n",
       "    }\n",
       "\n",
       "    .dataframe tbody tr th {\n",
       "        vertical-align: top;\n",
       "    }\n",
       "\n",
       "    .dataframe thead th {\n",
       "        text-align: right;\n",
       "    }\n",
       "</style>\n",
       "<table border=\"1\" class=\"dataframe\">\n",
       "  <thead>\n",
       "    <tr style=\"text-align: right;\">\n",
       "      <th></th>\n",
       "      <th>S.No</th>\n",
       "      <th>BrandName</th>\n",
       "      <th>Product ID</th>\n",
       "      <th>Product Name</th>\n",
       "      <th>Brand Desc</th>\n",
       "      <th>Product Size</th>\n",
       "      <th>Currancy</th>\n",
       "      <th>MRP</th>\n",
       "      <th>SellPrice</th>\n",
       "      <th>Discount</th>\n",
       "      <th>Category</th>\n",
       "    </tr>\n",
       "  </thead>\n",
       "  <tbody>\n",
       "    <tr>\n",
       "      <th>0</th>\n",
       "      <td>1</td>\n",
       "      <td>4711</td>\n",
       "      <td>FR001</td>\n",
       "      <td>Cologne Fragrance</td>\n",
       "      <td>ekw eau de cologne 400 ml</td>\n",
       "      <td>Small</td>\n",
       "      <td>Rs.</td>\n",
       "      <td>3900</td>\n",
       "      <td>3120</td>\n",
       "      <td>20% off</td>\n",
       "      <td>Fragrance-Women</td>\n",
       "    </tr>\n",
       "    <tr>\n",
       "      <th>1</th>\n",
       "      <td>2</td>\n",
       "      <td>109f</td>\n",
       "      <td>DRW1</td>\n",
       "      <td>DRW1 - Westernwear-Women</td>\n",
       "      <td>womens v- neck short dress - yellow</td>\n",
       "      <td>Size:Medium,Small,X-Large,XX-Large</td>\n",
       "      <td>Rs.</td>\n",
       "      <td>1899</td>\n",
       "      <td>569</td>\n",
       "      <td>70% off</td>\n",
       "      <td>Westernwear-Women</td>\n",
       "    </tr>\n",
       "    <tr>\n",
       "      <th>2</th>\n",
       "      <td>3</td>\n",
       "      <td>109f</td>\n",
       "      <td>DRW2</td>\n",
       "      <td>DRW2 - Westernwear-Women</td>\n",
       "      <td>womens round neck solid top - black</td>\n",
       "      <td>Size:Large,Medium,Small,X-Large</td>\n",
       "      <td>Rs.</td>\n",
       "      <td>1499</td>\n",
       "      <td>599</td>\n",
       "      <td>60% off</td>\n",
       "      <td>Westernwear-Women</td>\n",
       "    </tr>\n",
       "    <tr>\n",
       "      <th>3</th>\n",
       "      <td>4</td>\n",
       "      <td>109f</td>\n",
       "      <td>DRW3</td>\n",
       "      <td>DRW3 - Westernwear-Women</td>\n",
       "      <td>womens round neck stripe shift dress - red</td>\n",
       "      <td>Size:Medium,Small</td>\n",
       "      <td>Rs.</td>\n",
       "      <td>1599</td>\n",
       "      <td>639</td>\n",
       "      <td>60% off</td>\n",
       "      <td>Westernwear-Women</td>\n",
       "    </tr>\n",
       "    <tr>\n",
       "      <th>4</th>\n",
       "      <td>5</td>\n",
       "      <td>109f</td>\n",
       "      <td>DRW4</td>\n",
       "      <td>DRW4 - Westernwear-Women</td>\n",
       "      <td>womens round neck solid high low top - black</td>\n",
       "      <td>Size:Large,Medium,Small,X-Large</td>\n",
       "      <td>Rs.</td>\n",
       "      <td>1199</td>\n",
       "      <td>479</td>\n",
       "      <td>60% off</td>\n",
       "      <td>Westernwear-Women</td>\n",
       "    </tr>\n",
       "    <tr>\n",
       "      <th>5</th>\n",
       "      <td>6</td>\n",
       "      <td>109f</td>\n",
       "      <td>DRW5</td>\n",
       "      <td>DRW5 - Westernwear-Women</td>\n",
       "      <td>womens v-neck solid top - black</td>\n",
       "      <td>Size:Large,Medium,Small,X-Small</td>\n",
       "      <td>Rs.</td>\n",
       "      <td>1199</td>\n",
       "      <td>479</td>\n",
       "      <td>60% off</td>\n",
       "      <td>Westernwear-Women</td>\n",
       "    </tr>\n",
       "    <tr>\n",
       "      <th>6</th>\n",
       "      <td>7</td>\n",
       "      <td>109f</td>\n",
       "      <td>DRW6</td>\n",
       "      <td>DRW6 - Westernwear-Women</td>\n",
       "      <td>womens off shoulder neck checked top - navy</td>\n",
       "      <td>Size:Small,X-Large</td>\n",
       "      <td>Rs.</td>\n",
       "      <td>1299</td>\n",
       "      <td>519</td>\n",
       "      <td>60% off</td>\n",
       "      <td>Westernwear-Women</td>\n",
       "    </tr>\n",
       "  </tbody>\n",
       "</table>\n",
       "</div>"
      ],
      "text/plain": [
       "   S.No BrandName Product ID              Product Name  \\\n",
       "0     1      4711      FR001         Cologne Fragrance   \n",
       "1     2      109f       DRW1  DRW1 - Westernwear-Women   \n",
       "2     3      109f       DRW2  DRW2 - Westernwear-Women   \n",
       "3     4      109f       DRW3  DRW3 - Westernwear-Women   \n",
       "4     5      109f       DRW4  DRW4 - Westernwear-Women   \n",
       "5     6      109f       DRW5  DRW5 - Westernwear-Women   \n",
       "6     7      109f       DRW6  DRW6 - Westernwear-Women   \n",
       "\n",
       "                                     Brand Desc  \\\n",
       "0                     ekw eau de cologne 400 ml   \n",
       "1           womens v- neck short dress - yellow   \n",
       "2           womens round neck solid top - black   \n",
       "3    womens round neck stripe shift dress - red   \n",
       "4  womens round neck solid high low top - black   \n",
       "5               womens v-neck solid top - black   \n",
       "6   womens off shoulder neck checked top - navy   \n",
       "\n",
       "                         Product Size Currancy   MRP  SellPrice Discount  \\\n",
       "0                               Small      Rs.  3900       3120  20% off   \n",
       "1  Size:Medium,Small,X-Large,XX-Large      Rs.  1899        569  70% off   \n",
       "2     Size:Large,Medium,Small,X-Large      Rs.  1499        599  60% off   \n",
       "3                   Size:Medium,Small      Rs.  1599        639  60% off   \n",
       "4     Size:Large,Medium,Small,X-Large      Rs.  1199        479  60% off   \n",
       "5     Size:Large,Medium,Small,X-Small      Rs.  1199        479  60% off   \n",
       "6                  Size:Small,X-Large      Rs.  1299        519  60% off   \n",
       "\n",
       "            Category  \n",
       "0    Fragrance-Women  \n",
       "1  Westernwear-Women  \n",
       "2  Westernwear-Women  \n",
       "3  Westernwear-Women  \n",
       "4  Westernwear-Women  \n",
       "5  Westernwear-Women  \n",
       "6  Westernwear-Women  "
      ]
     },
     "execution_count": 6,
     "metadata": {},
     "output_type": "execute_result"
    }
   ],
   "source": [
    "import pandas as pd\n",
    "\n",
    "# Load data \n",
    "df = pd.read_csv(\"product.csv\")  \n",
    "\n",
    "# get the shape info \n",
    "print(\"Shape:\", df.shape)\n",
    "# get column info\n",
    "print(\"Columns:\", df.columns.tolist())\n",
    "# get overall df info\n",
    "print(\"Df Info:\", df.info())\n",
    "\n",
    "# Preview\n",
    "df.head(7)"
   ]
  },
  {
   "cell_type": "markdown",
   "metadata": {},
   "source": [
    "### Exploratory Data Analysis (EDA)"
   ]
  },
  {
   "cell_type": "code",
   "execution_count": 14,
   "metadata": {},
   "outputs": [
    {
     "data": {
      "image/png": "[encoded data removed]",
      "text/plain": [
       "<Figure size 600x300 with 1 Axes>"
      ]
     },
     "metadata": {},
     "output_type": "display_data"
    },
    {
     "name": "stdout",
     "output_type": "stream",
     "text": [
      "\n",
      "Top values in BrandName:\n",
      "BrandName\n",
      "and            709\n",
      "aurelia        486\n",
      "ayesha         381\n",
      "biba           290\n",
      "adidas         248\n",
      "allen solly    239\n",
      "catwalk        237\n",
      "casio          198\n",
      "amante         193\n",
      "altlife        161\n",
      "Name: count, dtype: int64\n",
      "\n",
      "Top values in Product Name:\n",
      "Product Name\n",
      "Cologne Fragrance                1\n",
      "BELLEZIYA20 - Jewellery-Women    1\n",
      "BELLEZIYA26 - Jewellery-Women    1\n",
      "BELLEZIYA25 - Jewellery-Women    1\n",
      "BELLEZIYA24 - Jewellery-Women    1\n",
      "BELLEZIYA23 - Jewellery-Women    1\n",
      "BELLEZIYA22 - Jewellery-Women    1\n",
      "BELLEZIYA21 - Jewellery-Women    1\n",
      "BELLEZIYA19 - Jewellery-Women    1\n",
      "BELLEZIYA28 - Jewellery-Women    1\n",
      "Name: count, dtype: int64\n",
      "\n",
      "Top values in Category:\n",
      "Category\n",
      "Westernwear-Women           1654\n",
      "Indianwear-Women            1131\n",
      "Footwear-Women               480\n",
      "Jewellery-Women              438\n",
      "Lingerie&Nightwear-Women     367\n",
      "Watches-Women                329\n",
      "Fragrance-Women              167\n",
      "Name: count, dtype: int64\n",
      "\n",
      "Top values in Brand Desc:\n",
      "Brand Desc\n",
      "womens gold plated earrings - multi                             7\n",
      "printed viscose round neck womens straight kurta - yellow       5\n",
      "printed polyester round neck womens ethnic set - blue           5\n",
      "printed cotton round neck womens t-shirt - white                5\n",
      "dyed cotton round neck womens straight kurta - green            5\n",
      "womens solid padded wired t-shirt bra - black                   4\n",
      "printed cotton round neck womens active wear t-shirt - black    4\n",
      "printed band collar straight fit womens kurta - red             4\n",
      "textile lace up womens sports shoes - pink                      4\n",
      "synthetic lace up womens sports shoes - white                   4\n",
      "Name: count, dtype: int64\n"
     ]
    }
   ],
   "source": [
    "# Histograms will be only 1 as essentially only one feature is int64\n",
    "import matplotlib.pyplot as plt\n",
    "import seaborn as sns\n",
    "\n",
    "# Check for nulls\n",
    "df.isnull().sum().sort_values(ascending=False)\n",
    "\n",
    "# Histograms for numeric fields\n",
    "numeric_cols = ['SellPrice']\n",
    "df[numeric_cols].hist(bins=30, figsize=(6, 3))\n",
    "plt.title(\"SellPrice Distribution Histograms\")\n",
    "plt.show()\n",
    "\n",
    "# Frequency counts\n",
    "for col in ['BrandName', 'Product Name', 'Category', 'Brand Desc']:\n",
    "    print(f\"\\nTop values in {col}:\")\n",
    "    print(df[col].value_counts().head(10))\n",
    "\n",
    "# Correlation heatmap is not required."
   ]
  },
  {
   "cell_type": "code",
   "execution_count": 15,
   "metadata": {},
   "outputs": [
    {
     "name": "stdout",
     "output_type": "stream",
     "text": [
      "\n",
      "Top values in Product Name:\n",
      "Product Name\n",
      "Cologne Fragrance                1\n",
      "BELLEZIYA20 - Jewellery-Women    1\n",
      "BELLEZIYA26 - Jewellery-Women    1\n",
      "BELLEZIYA25 - Jewellery-Women    1\n",
      "BELLEZIYA24 - Jewellery-Women    1\n",
      "BELLEZIYA23 - Jewellery-Women    1\n",
      "BELLEZIYA22 - Jewellery-Women    1\n",
      "BELLEZIYA21 - Jewellery-Women    1\n",
      "BELLEZIYA19 - Jewellery-Women    1\n",
      "BELLEZIYA28 - Jewellery-Women    1\n",
      "BELLEZIYA18 - Jewellery-Women    1\n",
      "BELLEZIYA17 - Jewellery-Women    1\n",
      "BELLEZIYA16 - Jewellery-Women    1\n",
      "BELLEZIYA15 - Jewellery-Women    1\n",
      "BELLEZIYA14 - Jewellery-Women    1\n",
      "BELLEZIYA13 - Jewellery-Women    1\n",
      "BELLEZIYA27 - Jewellery-Women    1\n",
      "BELLEZIYA29 - Jewellery-Women    1\n",
      "BELLEZIYA11 - Jewellery-Women    1\n",
      "BELLEZIYA38 - Jewellery-Women    1\n",
      "Name: count, dtype: int64\n"
     ]
    }
   ],
   "source": [
    "# Frequency counts\n",
    "for col in ['Product Name']:\n",
    "    print(f\"\\nTop values in {col}:\")\n",
    "    print(df[col].value_counts().head(20))"
   ]
  },
  {
   "cell_type": "code",
   "execution_count": 16,
   "metadata": {},
   "outputs": [
    {
     "name": "stdout",
     "output_type": "stream",
     "text": [
      "\n",
      "Top values in Brand Desc:\n",
      "Brand Desc\n",
      "womens gold plated earrings - multi                              7\n",
      "printed viscose round neck womens straight kurta - yellow        5\n",
      "printed polyester round neck womens ethnic set - blue            5\n",
      "printed cotton round neck womens t-shirt - white                 5\n",
      "dyed cotton round neck womens straight kurta - green             5\n",
      "womens solid padded wired t-shirt bra - black                    4\n",
      "printed cotton round neck womens active wear t-shirt - black     4\n",
      "printed band collar straight fit womens kurta - red              4\n",
      "textile lace up womens sports shoes - pink                       4\n",
      "synthetic lace up womens sports shoes - white                    4\n",
      "fabric lace up womens sports shoes - black                       4\n",
      "printed viscose round neck womens ethnic set - green             4\n",
      "mesh lace up womens sports shoes - black                         4\n",
      "womens long sleeves solid jacket - black                         4\n",
      "printed polyester crew neck womens t-shirt - black               4\n",
      "lace up womens sports shoes - black                              4\n",
      "regular length cotton woven embroidered womens dupatta - navy    4\n",
      "ethnic oxidized jhumki drop earrings                             4\n",
      "mesh lace up womens sports shoes - grey                          4\n",
      "solid polyester regular fit womens trousers - black              4\n",
      "Name: count, dtype: int64\n"
     ]
    }
   ],
   "source": [
    "# Frequency counts\n",
    "for col in ['Brand Desc']:\n",
    "    print(f\"\\nTop values in {col}:\")\n",
    "    print(df[col].value_counts().head(20))"
   ]
  },
  {
   "cell_type": "code",
   "execution_count": 13,
   "metadata": {},
   "outputs": [
    {
     "data": {
      "text/plain": [
       "4566"
      ]
     },
     "execution_count": 13,
     "metadata": {},
     "output_type": "execute_result"
    }
   ],
   "source": [
    "df['Product Name'].nunique()"
   ]
  },
  {
   "cell_type": "code",
   "execution_count": 18,
   "metadata": {},
   "outputs": [
    {
     "data": {
      "image/png": "[encoded data removed]",
      "text/plain": [
       "<Figure size 640x480 with 1 Axes>"
      ]
     },
     "metadata": {},
     "output_type": "display_data"
    },
    {
     "data": {
      "text/plain": [
       "0                            [Cologne, Fragrance]\n",
       "1                    [DRW1, -, Westernwear-Women]\n",
       "2                    [DRW2, -, Westernwear-Women]\n",
       "3                    [DRW3, -, Westernwear-Women]\n",
       "4                    [DRW4, -, Westernwear-Women]\n",
       "                          ...                    \n",
       "4561     [CRIMSOUNE, CLUB6, -, Westernwear-Women]\n",
       "4562     [CRIMSOUNE, CLUB7, -, Westernwear-Women]\n",
       "4563     [CRIMSOUNE, CLUB8, -, Westernwear-Women]\n",
       "4564     [CRIMSOUNE, CLUB9, -, Westernwear-Women]\n",
       "4565    [CRIMSOUNE, CLUB10, -, Westernwear-Women]\n",
       "Name: tokens, Length: 4566, dtype: object"
      ]
     },
     "execution_count": 18,
     "metadata": {},
     "output_type": "execute_result"
    }
   ],
   "source": [
    "# Don't overwrite the original — keep as parallel analysis\n",
    "df['tokens'] = df['Product Name'].apply(lambda x: x.split())\n",
    "\n",
    "# Optional analysis:\n",
    "df['num_tokens'] = df['tokens'].apply(len)\n",
    "df['num_tokens'].hist(bins=20)\n",
    "plt.title(\"Distribution of Token Counts in Product Names\")\n",
    "plt.show()\n",
    "\n",
    "df['tokens']"
   ]
  },
  {
   "cell_type": "markdown",
   "metadata": {},
   "source": [
    "Instead of relying on one noisy or incomplete field, we build a composite textual representation that combines descriptive and identifier-level data. This gives our fuzzy matcher the same context a human would rely on to recognize similar products."
   ]
  },
  {
   "cell_type": "code",
   "execution_count": 27,
   "metadata": {},
   "outputs": [
    {
     "data": {
      "text/plain": [
       "0                              Cologne Fragrance ekw eau de cologne 400 ml\n",
       "1             DRW1 - Westernwear-Women womens v- neck short dress - yellow\n",
       "2             DRW2 - Westernwear-Women womens round neck solid top - black\n",
       "3      DRW3 - Westernwear-Women womens round neck stripe shift dress - red\n",
       "4    DRW4 - Westernwear-Women womens round neck solid high low top - black\n",
       "5                 DRW5 - Westernwear-Women womens v-neck solid top - black\n",
       "6     DRW6 - Westernwear-Women womens off shoulder neck checked top - navy\n",
       "7               DRW7 - Westernwear-Women womens v neck checked top - black\n",
       "8     DRW8 - Westernwear-Women womens round neck solid shift dress - black\n",
       "9             DRW9 - Westernwear-Women womens round neck solid top - black\n",
       "Name: concat, dtype: object"
      ]
     },
     "execution_count": 27,
     "metadata": {},
     "output_type": "execute_result"
    }
   ],
   "source": [
    "df[\"concat\"] = df[\"Product Name\"].fillna('') + \" \" + df[\"Brand Desc\"].fillna('')\n",
    "pd.set_option('display.max_colwidth', None)\n",
    "df['concat'].head(10)"
   ]
  },
  {
   "cell_type": "markdown",
   "metadata": {},
   "source": [
    "### Cleaning (incl. of normalizing)"
   ]
  },
  {
   "cell_type": "markdown",
   "metadata": {},
   "source": [
    "Normalize test: all lowercase, ASCII, etc."
   ]
  },
  {
   "cell_type": "code",
   "execution_count": 28,
   "metadata": {},
   "outputs": [],
   "source": [
    "import re\n",
    "import unicodedata\n",
    "\n",
    "def normalize(text):\n",
    "    if pd.isna(text):\n",
    "        return \"\"\n",
    "    text = unicodedata.normalize(\"NFKD\", str(text))\n",
    "    text = text.encode(\"ASCII\", \"ignore\").decode(\"utf-8\")\n",
    "    text = text.lower()\n",
    "    text = re.sub(r'[^a-z0-9\\s]', '', text)\n",
    "    text = re.sub(r'\\s+', ' ', text)\n",
    "    return text.strip()\n"
   ]
  },
  {
   "cell_type": "code",
   "execution_count": 29,
   "metadata": {},
   "outputs": [],
   "source": [
    "# Apply Normalization\n",
    "# Apply to core columns\n",
    "df['Product Name'] = df['Product Name'].apply(normalize)\n",
    "df['Brand Desc'] = df['Brand Desc'].apply(normalize)\n",
    "\n",
    "# Rebuild and normalize 'concat' (in case base fields changed)\n",
    "df['concat'] = df['Product Name'].fillna('') + \" \" + df['Brand Desc'].fillna('')\n",
    "df['concat'] = df['concat'].apply(normalize)"
   ]
  },
  {
   "cell_type": "code",
   "execution_count": 31,
   "metadata": {},
   "outputs": [],
   "source": [
    "# Drop invalid or Empty Entries\n",
    "# Drop rows with empty concat\n",
    "df = df[df['concat'].notnull() & (df['concat'].str.strip() != '')]\n",
    "\n",
    "# Drop exact duplicates on 'concat'\n",
    "df = df.drop_duplicates(subset=['concat']).reset_index(drop=True)"
   ]
  },
  {
   "cell_type": "code",
   "execution_count": 34,
   "metadata": {},
   "outputs": [
    {
     "data": {
      "text/plain": [
       "' \\ndf[\\'tokens\\'] = df[\\'concat\\'].apply(lambda x: x.split())\\ndf[\\'num_tokens\\'] = df[\\'tokens\\'].apply(len)\\n\\n# View most/least verbose rows\\nprint(\"Longest descriptions:\")\\nprint(df.sort_values(by=\\'num_tokens\\', ascending=False).head(5)[[\\'concat\\']])\\n'"
      ]
     },
     "execution_count": 34,
     "metadata": {},
     "output_type": "execute_result"
    }
   ],
   "source": [
    "# optional token analysis\n",
    "''' \n",
    "df['tokens'] = df['concat'].apply(lambda x: x.split())\n",
    "df['num_tokens'] = df['tokens'].apply(len)\n",
    "\n",
    "# View most/least verbose rows\n",
    "print(\"Longest descriptions:\")\n",
    "print(df.sort_values(by='num_tokens', ascending=False).head(5)[['concat']])\n",
    "'''"
   ]
  },
  {
   "cell_type": "markdown",
   "metadata": {},
   "source": [
    "### Finalized one column case column"
   ]
  },
  {
   "cell_type": "code",
   "execution_count": 36,
   "metadata": {},
   "outputs": [
    {
     "data": {
      "text/html": [
       "<div>\n",
       "<style scoped>\n",
       "    .dataframe tbody tr th:only-of-type {\n",
       "        vertical-align: middle;\n",
       "    }\n",
       "\n",
       "    .dataframe tbody tr th {\n",
       "        vertical-align: top;\n",
       "    }\n",
       "\n",
       "    .dataframe thead th {\n",
       "        text-align: right;\n",
       "    }\n",
       "</style>\n",
       "<table border=\"1\" class=\"dataframe\">\n",
       "  <thead>\n",
       "    <tr style=\"text-align: right;\">\n",
       "      <th></th>\n",
       "      <th>concat</th>\n",
       "    </tr>\n",
       "  </thead>\n",
       "  <tbody>\n",
       "    <tr>\n",
       "      <th>0</th>\n",
       "      <td>cologne fragrance ekw eau de cologne 400 ml</td>\n",
       "    </tr>\n",
       "    <tr>\n",
       "      <th>1</th>\n",
       "      <td>drw1 westernwearwomen womens v neck short dress yellow</td>\n",
       "    </tr>\n",
       "    <tr>\n",
       "      <th>2</th>\n",
       "      <td>drw2 westernwearwomen womens round neck solid top black</td>\n",
       "    </tr>\n",
       "    <tr>\n",
       "      <th>3</th>\n",
       "      <td>drw3 westernwearwomen womens round neck stripe shift dress red</td>\n",
       "    </tr>\n",
       "    <tr>\n",
       "      <th>4</th>\n",
       "      <td>drw4 westernwearwomen womens round neck solid high low top black</td>\n",
       "    </tr>\n",
       "  </tbody>\n",
       "</table>\n",
       "</div>"
      ],
      "text/plain": [
       "                                                             concat\n",
       "0                       cologne fragrance ekw eau de cologne 400 ml\n",
       "1            drw1 westernwearwomen womens v neck short dress yellow\n",
       "2           drw2 westernwearwomen womens round neck solid top black\n",
       "3    drw3 westernwearwomen womens round neck stripe shift dress red\n",
       "4  drw4 westernwearwomen womens round neck solid high low top black"
      ]
     },
     "execution_count": 36,
     "metadata": {},
     "output_type": "execute_result"
    }
   ],
   "source": [
    "# Drop duplicates just to be extra safe\n",
    "df_final = df[['concat']].drop_duplicates().reset_index(drop=True)\n",
    "\n",
    "df_final.head()"
   ]
  },
  {
   "cell_type": "code",
   "execution_count": 37,
   "metadata": {},
   "outputs": [
    {
     "name": "stdout",
     "output_type": "stream",
     "text": [
      "✅ Exported 4566 clean product entries to product_clean.csv\n"
     ]
    }
   ],
   "source": [
    "# Export to CSV\n",
    "df_final.to_csv(\"product_clean.csv\", index=False)\n",
    "\n",
    "print(f\"✅ Exported {len(df_final)} clean product entries to product_clean.csv\")"
   ]
  },
  {
   "cell_type": "code",
   "execution_count": null,
   "metadata": {},
   "outputs": [],
   "source": []
  }
 ],
 "metadata": {
  "kernelspec": {
   "display_name": "Python 3",
   "language": "python",
   "name": "python3"
  },
  "language_info": {
   "codemirror_mode": {
    "name": "ipython",
    "version": 3
   },
   "file_extension": ".py",
   "mimetype": "text/x-python",
   "name": "python",
   "nbconvert_exporter": "python",
   "pygments_lexer": "ipython3",
   "version": "3.12.6"
  }
 },
 "nbformat": 4,
 "nbformat_minor": 2
}
