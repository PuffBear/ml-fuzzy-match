{
 "cells": [
  {
   "cell_type": "code",
   "execution_count": 1,
   "metadata": {},
   "outputs": [],
   "source": [
    "from match import FuzzyMatcher\n",
    "\n",
    "matcher = FuzzyMatcher(top_k=5)"
   ]
  },
  {
   "cell_type": "code",
   "execution_count": 13,
   "metadata": {},
   "outputs": [
    {
     "name": "stdout",
     "output_type": "stream",
     "text": [
      "⚠️ No match passed the threshold — showing fallback:\n",
      "\n",
      "Top 5 matches for query: 'gata'\n",
      "\n",
      "tata tiscon fe600  \n",
      "rungta steel fe500  \n",
      "rungta steel fe550  \n",
      "tata tiscon fe500 d  \n",
      "tata tiscon fe550 d  \n"
     ]
    }
   ],
   "source": [
    "query = \"gata\"\n",
    "results = matcher.match(query)\n",
    "\n",
    "print(f\"\\nTop 5 matches for query: '{query}'\\n\")\n",
    "for name, score in results[:5]:\n",
    "    print(f\"{name}  \")\n",
    "\n",
    "# — Score: {score:.3f}"
   ]
  },
  {
   "cell_type": "code",
   "execution_count": null,
   "metadata": {},
   "outputs": [],
   "source": []
  }
 ],
 "metadata": {
  "kernelspec": {
   "display_name": "Python 3",
   "language": "python",
   "name": "python3"
  },
  "language_info": {
   "codemirror_mode": {
    "name": "ipython",
    "version": 3
   },
   "file_extension": ".py",
   "mimetype": "text/x-python",
   "name": "python",
   "nbconvert_exporter": "python",
   "pygments_lexer": "ipython3",
   "version": "3.12.6"
  }
 },
 "nbformat": 4,
 "nbformat_minor": 2
}
